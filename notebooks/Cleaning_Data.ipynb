{
 "cells": [
  {
   "cell_type": "markdown",
   "metadata": {},
   "source": [
    "**Table of contents**<a id='toc0_'></a>    \n",
    "- [Libraries](#toc1_)    \n",
    "- [Loading text filings](#toc2_)    \n",
    "- [Extracting the Management's Discussion and Analysis Section](#toc3_)    \n",
    "\n",
    "<!-- vscode-jupyter-toc-config\n",
    "\tnumbering=false\n",
    "\tanchor=true\n",
    "\tflat=false\n",
    "\tminLevel=1\n",
    "\tmaxLevel=6\n",
    "\t/vscode-jupyter-toc-config -->\n",
    "<!-- THIS CELL WILL BE REPLACED ON TOC UPDATE. DO NOT WRITE YOUR TEXT IN THIS CELL -->"
   ]
  },
  {
   "cell_type": "markdown",
   "metadata": {},
   "source": [
    "# <a id='toc1_'></a>[Libraries](#toc0_)"
   ]
  },
  {
   "cell_type": "code",
   "execution_count": 1,
   "metadata": {},
   "outputs": [],
   "source": [
    "import os\n",
    "import time\n",
    "os.chdir(os.environ.get('PROJECT_PATH'))\n",
    "from secnlp.ml_logic import data as d\n",
    "from secnlp.ml_logic import parsing as p\n",
    "import secnlp.ml_logic.parsing\n",
    "from secnlp import utils as u\n",
    "from secnlp.params import *\n",
    "import pandas as pd\n",
    "import importlib"
   ]
  },
  {
   "cell_type": "markdown",
   "metadata": {},
   "source": [
    "# <a id='toc2_'></a>[Loading text filings](#toc0_)"
   ]
  },
  {
   "cell_type": "code",
   "execution_count": 2,
   "metadata": {},
   "outputs": [],
   "source": [
    "df = u.read_data_from_bq(credentials = SERVICE_ACCOUNT, gcp_project = PROJECT, bq_dataset = DATASET_ID, table = FILINGS_10KQ_TABLE_ID)"
   ]
  },
  {
   "cell_type": "code",
   "execution_count": 3,
   "metadata": {},
   "outputs": [],
   "source": [
    "df['date_filed'] = pd.to_datetime(df['date_filed'])"
   ]
  },
  {
   "cell_type": "code",
   "execution_count": 9,
   "metadata": {},
   "outputs": [],
   "source": [
    "filing_sample_10k = df[(df['date_filed'].dt.year == 2023) & (df['form_type'] == '10-K')].sample(1)\n",
    "filing_sample_10k['raw_filing'] = filing_sample_10k['file_name'].apply(lambda url: d.fetch_text_from_url(url, agent = AGENT))\n"
   ]
  },
  {
   "cell_type": "code",
   "execution_count": 5,
   "metadata": {},
   "outputs": [],
   "source": [
    "filing_sample_10q = df[(df['date_filed'].dt.year == 2023) & (df['form_type'] == '10-Q')].sample(1)\n",
    "filing_sample_10q['raw_filing'] = filing_sample_10q['file_name'].apply(lambda url: d.fetch_text_from_url(url, agent = AGENT))\n"
   ]
  },
  {
   "cell_type": "markdown",
   "metadata": {},
   "source": [
    "# 10-Ks"
   ]
  },
  {
   "cell_type": "code",
   "execution_count": 10,
   "metadata": {},
   "outputs": [],
   "source": [
    "text_10k = filing_sample_10k['raw_filing'].iloc[0]"
   ]
  },
  {
   "cell_type": "code",
   "execution_count": 11,
   "metadata": {},
   "outputs": [],
   "source": [
    "mda_10k = p.parse_10k_filing_items(text_10k, item = '7')"
   ]
  },
  {
   "cell_type": "code",
   "execution_count": 12,
   "metadata": {},
   "outputs": [
    {
     "data": {
      "text/plain": [
       "'item 7 management8217s discussion and analysis of financial condition and results of operations omitted'"
      ]
     },
     "execution_count": 12,
     "metadata": {},
     "output_type": "execute_result"
    }
   ],
   "source": [
    "importlib.reload(secnlp.ml_logic.parsing)\n",
    "p.cleaning(mda_10k)"
   ]
  },
  {
   "cell_type": "markdown",
   "metadata": {},
   "source": [
    "# 10-Q"
   ]
  },
  {
   "cell_type": "code",
   "execution_count": 20,
   "metadata": {},
   "outputs": [],
   "source": [
    "text_10q = filing_sample_10q['raw_filing'].iloc[0]\n",
    "mda_10q = p.parse_10q_filing_items(text_10q, item = '2')"
   ]
  },
  {
   "cell_type": "code",
   "execution_count": 21,
   "metadata": {},
   "outputs": [
    {
     "data": {
      "text/plain": [
       "'item 2 item 2 management  s discussion and analysis of financial condition and results of operations readers are cautioned that certain statements contained herein are forwardlooking statements and should be read in conjunction with our disclosures under the heading forwardlooking statements above these statements are based on current expectations and assumptions that are subject to risks and uncertainties this discussion also should be read in conjunction with the notes to our consolidated financial statements contained in item 8 financial statements and supplementary data of this report operations overviewoutlook the company developed a document called the creds deck which provides a description to prospective clients of digital claritys value proposition the fiscal year 2023 has focused on a slow return to normalcy though businesses have faced enormous challenges over the past few years and dbmms operating business digital clarity is no exception however for context it is worth reminding investors and shareholders that digital clarity was acquired by dbmm as a cashflow positive business with a great reputation and industry network winning industry awards as stated in the mdas for many years the operating business is cash flow positive but the costs of maintaining a public company far exceed the profit in those early days that was expected that is the digital business model though many digital companies do not have any operating revenues while they build the business though the postpandemic era still leaves scars there is also an opportunity for lean organizations to take advantage of the new and challenging landscape that will no doubt still impact the overall economy most analysts are clear the challenges globally though different from the pandemic will continue to have an impact in 2023 businesses will have to deal with the aftereffects of not only the global pandemic but new challenges the backdrop as we enter 2023 it is clear that b2b leaders are bracing for economic upheaval concerns about inflation higher interest rates supply chain shortages and the prospect of a looming recession are already forcing gotomarket leaders to rethink their growth strategies though the general business sentiment is pessimistic digital clarity has adapted its model to continually seek to focus on areas that will allow the business not only to survive during the turmoil but thrive as we come out of the challenging economic backdrop digital clarity has been pivoting during these challenging headwinds and working to build upon its experience in the b2b space and engaging with prospects in the saas and tech market the company is also looking to develop business in web3 and ai sectors as companies look to adapt to a changing business customer base why digital experts continue to be in demand the world has changed digital is now within the fabric of everyday life as consumer markets plateau and come under pressure the move by digital clarity to meet the needs of the businesstobusiness sector is both timely and has commercial growth potential 15 the b2b buyer journey is complex this is why experts like digital clarity need to be involved from the start savvy communication experts like digital clarity produce ideas that shape perceptions and grow markets there has never been a better time to navigate into the b2b marketplace as demand for an experienced safe pair of hands is required this sector is growing rapidly and the demand for expertise and skill to help businesses in marketing their services and products is sought after b2b digital ad spending is projected to reach 1847 billion by 2024 it will account for nearly 50 of total b2b ad spending that year according to insider intelligence a hybrid approach to marketing in line with hybrid sales departments is expected to be the most dominant sales strategy by 2024 due to shifts in customer preferences and remotefirst engagement according to mckinsey the future of b2b sales report 2022 hybrid will drive up to 50 percent more revenue by enabling broader deeper customer engagement and unlocking a more diverse talent pool than more traditional models winning b2b organizations are shifting to a more hybrid sales force by implementing actions that support success to keep up with the everchanging scene digital marketing experts need to stay in step with the evolving tech trends social media marketing companies like ours work tirelessly to research consumers and what makes them engage with brands we try to find the best online solutions that will cater to our clients endusers queries in the easiest and most costefficient way possible be it by developing new technology or adapting to trends relentless digital growth positions digital clarity as a leader the need for seasoned expertise and insight is in huge demand digital claritys strength heritage and reach in digital marketing puts the dbmm brand in an excellent position for investment and growth as the consumerfacing market becomes even more commoditized the companys move to serving the business sector b2b will see it leveraging experience for growth though the pandemic is certainly not over the business world entered into a period of recovery in 2022 in the process it is become apparent that even if the ongoing shift toward digital and mobile advertising in b2b might slow down to a degree it is not going to stop 16 the shift to digital is permanent despite slower growth digital will continue to command a greater overall share as more b2b marketers make the permanent shift from traditional advertising to online activities one of the most pronounced effects the pandemic had on b2b marketing was exponentially accelerating its transition into digital as the business world begins recovering from the pandemic and returning to more traditional models this transition has slowed down the past year has affirmed however that it will not stop how machine learning is enhancing digital marketing strategy digital clarity applies strategy to algorithmic based machine learning tools the launch of googles new machine learning tool rankbrain which contributes to search engine results left many people wondering what impact machine learning would have in the realm of search engine optimization seo with the tech industry going crazy for all things artificial intelligence ai natural language processing nlp machine learning and chatbots  companies like digital clarity help brands make sense of this everchanging landscape machine learning and digital marketing because machine learning is being used to solve a huge set of diverse problems with the help of data channels content and context as marketers digital clarity stands to benefit from this information and phenomenon as a whole but as the information we gather grows digital marketing as we know it is set to change digital clarity will be at the forefront of this change pay per click ppc campaigns with google launching new smart features such as google smart bidding smart display campaigns and inmarket audience to help businesses maximize conversions it is clear that the future of ppc lies in machine learning to become more strategic and take ppc campaigns to the next level for its clients digital clarity  get to grips with the metrics that are most valuable to your business  understand obstacles that could get in the way of meeting your goals  know the underlying performance drivers to make more strategic decisions search overall search makes up half 52 of advertising spend increasing on par at 15 to 43bn next is nonvideo display at 173bn 9 then video display 12bn 40 classifieds remains at 949m and other remained at 533m digital clarity embrace google  s machine learning marketing suite machine learning and ai have grown at a rapid pace and are an integral part of day to day search advertising management and planning though machine learning has been an integral part of the ad world what has been more significant has been the addition of artificial intelligence or ai according to a recent report in the harvard business review by deloitte ai in digital marketing is not just getting bigger it is getting far more persuasive mit researchers recently unveiled a chip that can perform inference using neural network computations three to seven times faster than previous chips and with up to 95 percent less power consumption dozens of companies working on new generations of ai chipsfor use both in and outside of data centersare attracting significant investment these companies raised more than 15 billion in funding last year nearly twice the amount they raised the year before 17 digital clarity perfectly positioned for the future according to gartners digital business acceleration report where to focus now enterprises have the intention of becoming more digital due to covid19 sales are going digital disruptive buyer dynamics are rewriting the rulebook for b2b sales demanding digitalfirst engagement with customers the rise in digital sales will be driven by marketing that creates demand and trust in brands this does not portend the eventual death of the sales rep but it does signal drastic changes needed in the seller role sales leaders must deliver significant value through digital and omnichannel sales models aided by sales professionals who can steer selflearning customers toward more confident decisions digital delivers this the growth of the digital omnichannel gartner research shows a steady shift of customer preferences from inperson sales interactions to digital channels b2b buyers spend only 17 of the total purchase journey with sales reps because the average deal involves multiple suppliers a sales rep gets roughly 5 of a customers total purchase time and 44 of millennials prefer no sales rep interaction at all in a b2b setting sales leaders must deliver significant value through digital and omnichannel sales models aided by sales professionals who can steer selflearning customers toward more confident decisions 18 omnichannel is the standard not the exception digital clarity can help organizations adopt the b2b omnichannel eight in ten b2b leaders say that omnichannel is as or more effective than traditional methods a sentiment that has grown sharply in the last 2 years even as inperson engagement reemerged as an option buyers made clear they prefer a crosschannel mix choosing inperson remote and digital selfserve interactions in equal measure increasing demands from customers the proliferation of sales channels the increase in data availability and the need to personalize content have driven the need for sales and marketing teams to work as one in fact 89 percent of respondents now say that marketing and sales need to work closely together more so than ever before to help enable and drive increased sales marketing teams have been busy fiftytwo percent of respondents say their companies have conducted extensive primary research to improve customer experience another 51 percent have invested in new capabilities to enable personalized marketing while 45 percent say their companies have recently reevaluated the role of marketing in their organization overall mckinsey says that the equilibrium is no accident as b2b buyers flexed to remote and digital ways of engaging they found much to like the use and preference for ecommerceselfserve for examplehas continually grown year on year omnichannel is more effective than traditional sales models alone as more companies enable facetoface remote and ecommerce interactions satisfaction with the sales model has grown exponentially more than 90 percent of b2b companies say their gotomarket model is just as or more effective than before the pandemic began digital clarity perfectly positioned for growth organizations will have to fight hard to retain loyalty if customer needs are not met for example eight in ten b2b decision makers say they will actively look for a new supplier if performance guarantees buyers are more willing than ever before to spend big through remote or online sales channels with 35 percent willing to spend 500000 or more in a single transaction seventyseven percent of b2b customers are also willing to spend 50000 or more b2b customers now regularly use ten or more channels to interact with suppliers digital clarity is a specialist in many of these channels and has been for a number of years this expertise experience and trust will put digital clarity front of mind for organizations as they seek professional advice 19 some of the channels of focus are b2b digital marketing services there is no denying the last year has proved challenging for digital marketing services that said the need for specialist marketing advisors is in demand google still dominates as part of the buying journey for both top and bottom of the buying funnel seo and googles algorithm has become more complex digital clarity are perfectly positioned to help companies navigate the complexities 20 content marketing content has become a critical tool in the marketing mix for almost every b2b brand nine out of ten b2b marketers are using content marketing strategies to pull in new customers this year the most successful marketers were already spending 40 or more of their budget on their content strategy at its simplest b2b content marketing is when a brand uses stories ideas and insights to engage and influence a business audience there is a realization amongst b2b brands that rather than being faceless organizations they need to tell their brands story and show a more human side to their business endear and promote demand from other businesses and customers the best content marketing campaigns back up these stories and ideas with robust insights interesting data points original research and realworld examples that help their customers understand a new trend or challenge and equip them with the tools and best practices to respond and thrive these data points and research is utilized by digital clarity to support companies in shaping their content strategy typically areas that digital clarity help clients are  blog posts  marketers who make blogging a priority are 13x more likely to see a positive roi for their efforts  white papers  favored by 22 of business leaders these longer researchbased reports provide more indepth information learn more about writing a compelling b2b marketing white paper here  shortform articles  enjoyed by 37 of execs these have to researchbased if they are to stand out  case studies  these provide buyers with reassurance further down the buying funnel and can be made sectorspecific nearly half of all business leaders appreciate them  infographics  these have become one of the most popular content marketing tools in recent years  podcasts  increasingly popular lead generation tools with marketers looking to deliver thought leadership content to buyers on the move  videos  companies using video experience clickthrough rates that are 27 higher and web conversion rates 34 greater than those that do not  email  nearly eight out of 10 marketers report see g an increase in email engagement over the past 12 months of 2022  linkedin  generates more than 50 of all social traffic to b2b websites blogs 21 content is information and discoverable information drives revenue information drives purchase ease and highquality sales all of this looping around and bouncing from one job to another means that buyers value suppliers that make it easier for them to navigate the purchase process in fact gartner research found that customers who perceived the information they received from suppliers to be helpful in advancing across their buying jobs were 28 times more likely to experience a high degree of purchase ease and three times more likely to buy a bigger deal with less regret digital clarity has a process that helps shape their clients content to become more discoverable information and this increases revenues buyer enablement or the provisioning of information to customers in a way that enables them to complete information online like gathering information or making a purchase is an area that digital clarity are helping organizations key milestones as the market conditions in the consumer market cool slightly the team at digital clarity has been busy pivoting their business model to address the need in the 2b2 business sector this is a more strategic offering for prospective customers digital clarity has started offering a wider array of services to it fastgrowing s company in the us services include linkedin strategy content positioning and seo digital clarity has attended a major convergence summit with its client in the unified communication and digital transformation arena this allowed the team to meet with the likes of saas cx providers 8x8 five9 and mitel amongst others this will be an area of focus for the company into 2023 in october digital clarity was part of a select group that part of a panel that discussed the impact of nfts blockchain and the growth of web 3 and the metaverse the event was arranged by leading law firm memery crystal part of rosenblatt digital clarity has been on a large business development push and attended various networking events in london the events include enterprise cyber security hosted at the london stock exchange as well as diverse events in defi and insuretech other examples are representative of the diversity of client base dbmms approach using a clients analytics and executing an individualized model to increase roi as the prime objective spans a wide range of industries 22 core industry verticals for digital clarity include b2b saas digital transformation fintech unified communication companies and discretionary advice for professional service providers and consultants the growth of digital marketing consultancy services the skill set historically owned by agencies offering disciplines such as ux design creativity customercentric data analytics and customer engagement is now being immersed with large consultancy businesses whose traditional bread and butter was digital transformation accenture deloitte ibm kpmg mckinsey and pricewaterhousecoopers rank among the most aggressive players in acquiring and partnering with agencies such as digital clarity they present not only an opportunity for digital clarity but also a prospective exit and investment opportunity digital clarity have continued to develop their digital consulting and strategy planning offering the forward looking program is to be a recognized leader in this field and fulfill companies seeking digital transformation for their originations the need for professional consultancy and the opportunity for massive growth four consultancies lead ad ages ranking of the 10 largest agency companies in the world with combined revenue of 132 billion the marketing services units of accenture pwc ibm and deloitte sit just below wpp omnicom publicis groupe interpublic and dentsu last year only two consultanciesaccenture interactive and ibm ixmade the top 10 ibm ix was the first to break into the top 10 given the experience of the team digital claritys advisory and consultancy is in demand with the recent growth in these business areas and the rise of consultancies it is confirmation that digital clarity is headed in the right direction for growth the growth of digital transformation worldwide the global digital transformation market size is expected to reach 13 billion by 2027 rising at a market growth of 208 cagr during the forecast period digital transformation is considered as the utilization of digital technology digitally transformed enterprises can be flexible to the changing technological landscape and can address abrupt shifts in the industry particularly the one presently created by the covid19 pandemic studies show that the efficiency and rate of adaptation of digitally transformed companies to a postpandemic era are relatively larger than conventional businesses source digital clarity can help various businesses that have been considerably affected by the global outbreak of the covid19 pandemic one of the significant challenges for the global economy in 2020 was to facilitate business continuity in the midst of social distancing guidelines lockdowns norms workfromhome culture and other operational challenges the lack of availability of digital strategies infrastructure or tools worsens the challenges for various companies that were needed to abruptly shift operations online or allow workers to work from their homes the situation on the other hand resulted in a considerable surge in awareness regarding the urgent requirement for digital transformation across a majority of the industries and created some lucrative opportunities for the global market companies are getting more aware of the advantages of digital transformation particularly in the workfromhome culture that needs a business to allow the employees to easily learn collaborate and perform organizational functions across remote locations the importance of strategic marketing consultancy the fundamentals of marketing may not have changed but everything else has goals roles expectations talent needs and more b2b marketing leaders need to navigate this new terrain and build the capabilities needed to win digital clarity helps these organizations win across industries organizations are accelerating digital transformation processes for longterm growth and profitability yet 53 of the organizations surveyed remain untested in the face of digital challenge and their digital transformation readiness therefore uncertain this report from gartner highlights the need embrace change businesses had no choice but to respond quickly to challenging conditions although not formally classed as agile the twists and turns of the pandemic have required executives to innovate on the fly and collaborate to get things done this has been compounded by working from home which has cut out distractions and created more time for deep thinking regardless of headcount a return to more stable trading conditions should not mean running back to the standard practices and silos that previously slowed marketers down 23 adobe says that businesstobusiness b2b commerce will continue to undergo a major transformation as companies adopt the latest technologies to find new customers improve their supplychain efficiencies and provide a more personalized user experience to their clientele digital clarity has created a unique diagnosis workshop that helps brands identify needs as well as assess the opportunity available the core focus is to help reduce wastage and increase results areas of focus include  cost analysis  audit current channels  digital strategy planning  roi projection planning  digital consulting and training competitive landscape digital advertising is the fastestgrowing segment of the global market for advertising spending the increasing use of smartphones and the availability of cheap internet services are the two major factors propelling the growth prospects for this market more than 30 of the companies are planning to spend around 75 of their advertising expenditures on digital marketing within the next five years you s marketers are expected to spend 1101 billion on digital ads this year or 51 of the 2146 billion total yous advertising spending forecast excluding political ads newspapers radio magazines and local television now account for just 21 of the yous ad market from the wall street journal digital clarity has a competitive advantage digital clarity operate in a highly commoditized market but have over the years build a stellar reputation that makes it different from its competitors some of these areas include 1 our dna is strategically driven we believe the path to successful customer acquisition lies in understanding a clients business  not just running a campaign we seek to help clients understand that success has to be objective and measurable 2 we are business led digital marketing is not a cost but an asset not a line in a spreadsheet but an emotive force that if done right will bring real business change and growth 3 we are digital thinkers marketing has to be at the heart of the business delivering real innovation in digital marketing requires not just knowledge but authority and bravery we think digital we drive results 4 our goal is to deliver digital performance we help our clients to understand their goals and objectives using digital marketing to drive new business opportunities and retain their current customers his markit a research firm reported each dollar that companies spent on advertising in the united states last year led to 9 in sales the growth of b2b social media 2020 will go down as the year that marketing was pulled into the boardroom 80 of senior executives said the role of marketing in setting strategy has expanded since the pandemic traditional consumers have moved online making the digital environment even more important right now 24 this priority has raised the profile of marketing as companies scramble to understand the digitalfirst consumer the battleground for 2023 will be about speed and agility now that many companies have treasure troves of data the difference is how fast they can personalize the experience and respond to consumer behaviors expect to see more investment and innovation in technology infrastructure alongside marketing  76 of b2b organizations use social media analytics to measure content performance  by 2025 80 of b2b sales interactions will occur on digital channels  yous b2b business will spend an estimated 199 billion in 2022 and 233 billion in 2023 growth in linkedin advertising set to soar beyond 2023 almost all b2b content marketers 96 use linkedin they also rated it as the topperforming organic platform for paid social posts the picture is similar but not identical digital clarity help business organization make the most of linkedin we help customers understand and build campaigns around the 955 rule the 955 rule advises you market mostly to buyers who are not likely to buy from you today the new normal is digital in just oneyear since the pandemic digital adoption has happened at five to ten times the projected rate lockdown periods economic uncertainty and loss of predictability have forced customers and businesses online in previously unseen numbers this migration has upset the power balance with customers now more in control of the relationship and less loyal to brands and products on top of that 60 of companies have seen new buying behaviors such as changes to average basket size and product interests pandemic disruption is also causing many businesses to demand a similar level of convenience to consumers when we return to normal there is no question that the new normal will be digital growth in investor awareness and outreach we expect that in 2023 the strategic outreach will be directed at investors around the world who understand the digital marketplace and its expanding influence on consumer decisions dbmm will target new investors through a global digital and traditional integrated investor outreach campaign which will be run by digital clarity with third parties as required for distribution in all areas the company will act in the interests of all stakeholders 25 in the full industry context of dramatic expansion of digital footprints there has been no direct correlation between dbmms revenues and its share price economic and industry analysts have opined that the industry multiple continues to grow to in some cases 2530 times revenues dbmm will expand its client and geographic scale thus increasing revenues there were matters outside of dbmms control which caused growth to be in neutral and in 202021 the pandemic threw all planning into disarray with capital infusion following the closure of the sec review with a final order of the earlier dismissal 2023 will follow the model of a growing client base and geographic reach until it achieves a tbd level of profitability we anticipate the benchmark will replicate successful industry models in digital technology marketing and company transformation on october 26 2022 finra processed a form 211 relating to the initiation of priced quotations of our shares of common stock which means that the submitting brokerdealer has demonstrated to finra compliance with finra rule 6432 and therefore has met the requirements under that rule to initiate a quotation for our shares of common stock within four days of october 26 2022 finras processing of a form 211 in no way constitutes finras approval of the security the issuer or the issuers business and relates solely to the submitting brokerdealers obligation to comply with finra rule 6432 and sea rule 15c211 when quoting a security finra to glendale securities after otc markets review of our activities following their process our shares of common stock returned to normal market trading without restriction or caveat emptor the caveat emptor was removed on december 20 2022 accordingly plans to grow investor awareness and outreach are underway glendale securities inc is the designated market maker the sec matter has remained open since the november 12 2019 dismissal regarding the cured late filings this is damaging to our investors and us and impedes our progress our compliance continues with required timely filings and we hope the matter is closed shortly financial overviewoutlook dbmm has been honing its commercial model since the acquisition of digital clarity dc in 2011 and has been cash flowpositive as an operating company since then unfortunately external events outside of dbmms control have precluded the growth expected to this point however its margins of 3550 are accurate aspirationally when the company reaches appropriate scale and profitability tbd the business will meet all stakeholder expectations the growth trajectory anticipated during 2023 remained deferred until the company returns to normal business and normal trading normal trading has resumed and the clients will benefit immediately due to a wider range of resources and the shareholders will benefit as the market cap grows the media market multiple far exceeds the old manufacturing multiples as digital technology and marketing has become one of fastest growing industries in the world today the trading in our shares of common stock returned to normal on december 20 2022 with no restrictions the us retail marketplace of our shares of common stock was open finally to all investors dbmms place in the industry reputationally is strong particularly for its size the industry environment continues to grow exponentially and digital marketing and company transformation is an essential strategy for any commercial activity and thus has become embedded in planning since 2020 revenues have slowed down temporarily due to a number of factors 1 client uncertainty caused by brexit trade issues 2 covid19 global slowdown with some clients pausing as lockdowns stopped and started 3 clients needing to extend or double down lacked the resources to address the changing environment the business development model has evolved and as such digital clarity has earned a seat at the table client by client with precision the revenues are turning around several years ago the company received a commitment for future working capital to grow the company in key markets growth capital will be directed to support a client base rebalancing and leveraging of a very dynamic transformational digital landscape dcs mantra remains the same roi is our dna going forward there will be an emphasis on investor awareness as soon as normal business has recommenced dbmm intends to make significant strides in aggressively broadening its brand exposure there are investors around the globe who understand the digital marketplace and its increasing influence on commercial decisions dbmm will be targeting new shareholders in the public market through a global digital and traditional integrated campaign run by dc with third parties as required for distribution the expectations for fiscal year 2023 was to return to normal trading first which now has occurred and then move ahead to a scaled growth plan in multiple geographies once normal business recommences and the sec matter is closed the result will benefit all stakeholders the company resolved in 2015 to eliminate any consideration of using convertible debentures as a financing vehicle accordingly the company has not issued convertible debentures since 2015 26 additionally we have demonstrated our adherence to such a philosophy by renegotiating its aged debt with lenders one at a time at fixed settlement amounts with no conversion terms furthermore such renegotiations lead to the derecognition of derivative liabilities overhanging our balance sheet the company intends to continue its debt negotiation and modification program this has been a successful strategy thus far during fiscal year 2021 and so far in 2023 and to a lesser extent in fiscal 2020 we successfully reached agreements with certain lenders resulting in a gain on extinguishment for loans payable which amounted to the difference between the carrying value and the revised amount of the obligations the gain on extinguishment of principal and accrued interest amounted to 169837 and 57802 during fiscal 2021 and 2020 respectively we also successfully reached an agreement with a holder of convertible debentures aggregating 249800 to modify its terms such debentures are no longer convertible are now noninterest bearing and have been reclassified to loans payable it also resulted in a decrease in derivative liabilities and an increase in additional paidin capital of approximately 260000 during fiscal 2021 lastly in march 2022 we reached an agreement with a holder of convertible debentures to satisfy obligations aggregating 85000 in consideration of 30 million shares of the companys common stock more recently in february 2023 the company successfully reached an agreement with a holder of convertible debentures to satisfy obligations aggregating 76216 consideration of 7500000 shares of the companys common stock six month period ended february 28 2023 we had approximately 58826 in cash and our working capital deficiency amounted to approximately 65 million at february 28 2023 during the sixmonth period ended february 28 2023 we used cash in our operating activities amounting to approximately 211000 our cash used in operating activities was comprised of our net loss of approximately 365000 adjusted primarily for the following change in fair value of derivative liability of approximately 296000 additionally the following variations in operating assets and liabilities during the sixmonth period ended february 28 2023 impacted our cash used in operating activity increase of accounts payable accrued expenses accrued interest and accrued compensation of approximately 147000 resulting from a short fall in liquidity and capital resources we generated cash from financing activities of 260000 which primarily consists of the proceeds from notes payable sixmonth period ended february 28 2022 we had approximately 30000 in cash and our working capital deficiency amounted to approximately 57 million at february 28 2022 during the sixmonth period ended february 28 2022 we used cash in our operating activities amounting to approximately 175000 our cash used in operating activities was comprised of our net loss of approximately 122000 adjusted primarily for the following additionally the following variations in operating assets and liabilities during the sixmonth period ended february 28 2022 impacted our cash used in operating activity change in fair value of derivative liability of 283000 accounts payable accrued expenses accrued interest and accrued compensation of approximately 227000 resulting from a short fall in liquidity and capital resources we generated cash from financing activities of 196000 which primarily consists of the proceeds from notes payable 27 results of operations consolidated operating results for the threemonth period ended for the sixmonth period ended increase increase increase increase february 28 february 28 decrease decrease february 28 february 28 decrease decrease 2023 2022 2023 2022 sales 68329 39264 29065 74 122860 96846 26014 27 cost of sales 76823 32119 44704 139 103901 71873 32028 45 gross profit 8494 7145 15639 219 18959 24973 6014 24 costs and expenses sales general and administrative 115546 151529 35983 24 264250 317457 53207 17 total operating expenses 115546 151529 35983 24 264250 317457 53207 17 operating loss 124040 144384 20344 14 245291 292484 47193 16 other income expense interest expense 78827 128169 49342 38 155926 211641 55715 26 other income 46255 46255 nm 46255 98265 52010 nm loss on settlement of debt 88784 88784 nm 88784 88784 nm change in fair value of derivative liability 129242 296204 425446 nm 295562 283997 579559 nm total other expenses income net 250598 168035 418633 nm 494017 170621 664638 nm net loss 374638 23651 398289 1684 739308 121863 617445 nm nm not meaningful we currently generate revenue through our payperclick advertising search engine marketing search engine optimization services web design social media digital analytics and advisory services for the sixmonth period ended february 28 2023 our primary sources of revenue are the web design and advisory services perclick advertising and social media these primary sources amounted to 48 38 and 14 of our revenues respectively during the sixmonth period ended february 28 2023 revenue is recognized upon transfer of control of promised or services to customers in an amount that reflects the consideration the company expect to receive in exchange for those services the company enter into contracts that can include various combinations of services which are generally capable of being distinct and accounted for as separate performance obligations revenue is recognized net of any taxes collected from customers which are subsequently remitted to governmental authorities the increase in our revenues during the three and sixmonth period ended february 28 2023 when compared to the prior year is due to increased volume of services provided during fiscal 2023 during the three and sixmonth period ended february 28 2023 our cost of sales increase commensurate with our increase in revenues in each period the sales general and administrative expenses decreased during the three and sixmonth period ended february 28 2023when compared to the prior year periods primarily as a result of decreased overhead expenses and streamlined operations in fiscal 2023 interest expenses during the three and sixmonth decreased when compared to the prior year periods primarily from the decrease of additional considerations provided to certain lenders in fiscal 2023 28 the increase in net loss for the three and sixmonth periods ended february 28 2023 when compared to the prior year periods is primarily attributable to noncash charges such as change in fair value of derivative liability of 129242 and 295 562 respectively as well as a loss on settlement of debt of 88784 for both 2023 periods we currently generate revenue through our payperclick advertising search engine marketing search engine optimization services web design social media digital analytics and advisory services for the sixmonth period ended february 28 2023 our primary sources of revenue are the web design and advisory services perclick advertising and social media these primary sources amounted to 48 38 and 14 of our revenues respectively during the sixmonth period ended february 28 2023 revenue is recognized upon transfer of control of promised or services to customers in an amount that reflects the consideration the company expect to receive in exchange for those services the company enter into contracts that can include various combinations of services which are generally capable of being distinct and accounted for as separate performance obligations revenue is recognized net of any taxes collected from customers which are subsequently remitted to governmental authorities the decrease in our revenues during the sixmonth period ended february 28 2023 when compared to the prior year is due to a lower exchange rate in the first quarter of 2022 which reduces our revenues when converted in us during the sixmonth period ended february 28 2023 our cost of sales decreased due to reduction in compensation streamlining our delivery of services the sales general and administrative expenses during the sixmonth period ended february 28 2023 is at comparable levels to those incurred in the prior period interest expense during the sixmonth were consistent when compared to those incurred in the prior period the increase decrease in other income during the three and six months ended february 28 2023 is primarily due to research and development credits claimed during that period while they were claimed in the first quarter of 2022 the increase in derivative liabilities during the three and sixmonth period ended february 28 2023 is primarily attributable to an increase in the companys stock price used in the assumptions to compute its fair value at february 28 2023 when compared to february 28 2022 29 a iditem3 title'"
      ]
     },
     "execution_count": 21,
     "metadata": {},
     "output_type": "execute_result"
    }
   ],
   "source": [
    "importlib.reload(secnlp.ml_logic.parsing)\n",
    "p.cleaning(mda_10q)"
   ]
  },
  {
   "cell_type": "code",
   "execution_count": 22,
   "metadata": {},
   "outputs": [
    {
     "data": {
      "text/html": [
       "<div>\n",
       "<style scoped>\n",
       "    .dataframe tbody tr th:only-of-type {\n",
       "        vertical-align: middle;\n",
       "    }\n",
       "\n",
       "    .dataframe tbody tr th {\n",
       "        vertical-align: top;\n",
       "    }\n",
       "\n",
       "    .dataframe thead th {\n",
       "        text-align: right;\n",
       "    }\n",
       "</style>\n",
       "<table border=\"1\" class=\"dataframe\">\n",
       "  <thead>\n",
       "    <tr style=\"text-align: right;\">\n",
       "      <th></th>\n",
       "      <th>cik</th>\n",
       "      <th>company</th>\n",
       "      <th>form_type</th>\n",
       "      <th>date_filed</th>\n",
       "      <th>file_name</th>\n",
       "      <th>raw_filing</th>\n",
       "    </tr>\n",
       "  </thead>\n",
       "  <tbody>\n",
       "    <tr>\n",
       "      <th>878217</th>\n",
       "      <td>1127475</td>\n",
       "      <td>Digital Brand Media &amp; Marketing Group, Inc.</td>\n",
       "      <td>10-Q</td>\n",
       "      <td>2023-04-13</td>\n",
       "      <td>edgar/data/1127475/0001185185-23-000330.txt</td>\n",
       "      <td>&lt;SEC-DOCUMENT&gt;0001185185-23-000330.txt : 20230...</td>\n",
       "    </tr>\n",
       "  </tbody>\n",
       "</table>\n",
       "</div>"
      ],
      "text/plain": [
       "            cik                                      company form_type  \\\n",
       "878217  1127475  Digital Brand Media & Marketing Group, Inc.      10-Q   \n",
       "\n",
       "       date_filed                                    file_name  \\\n",
       "878217 2023-04-13  edgar/data/1127475/0001185185-23-000330.txt   \n",
       "\n",
       "                                               raw_filing  \n",
       "878217  <SEC-DOCUMENT>0001185185-23-000330.txt : 20230...  "
      ]
     },
     "execution_count": 22,
     "metadata": {},
     "output_type": "execute_result"
    }
   ],
   "source": [
    "filing_sample_10q"
   ]
  },
  {
   "cell_type": "markdown",
   "metadata": {},
   "source": []
  }
 ],
 "metadata": {
  "kernelspec": {
   "display_name": "Python 3 (ipykernel)",
   "language": "python",
   "name": "python3"
  },
  "language_info": {
   "codemirror_mode": {
    "name": "ipython",
    "version": 3
   },
   "file_extension": ".py",
   "mimetype": "text/x-python",
   "name": "python",
   "nbconvert_exporter": "python",
   "pygments_lexer": "ipython3",
   "version": "3.10.6"
  }
 },
 "nbformat": 4,
 "nbformat_minor": 4
}
