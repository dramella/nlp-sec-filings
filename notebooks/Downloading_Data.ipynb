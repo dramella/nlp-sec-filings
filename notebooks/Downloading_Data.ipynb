{
 "cells": [
  {
   "cell_type": "markdown",
   "metadata": {},
   "source": [
    "**Table of contents**<a id='toc0_'></a>    \n",
    "- [Libraries](#toc1_)    \n",
    "- [Find current companies with CIK codes](#toc2_)    \n",
    "- [Find basic information on companies](#toc3_)    \n",
    "- [Download the index files listing all filings by year and quarter](#toc4_)    \n",
    "- [Download and store text files](#toc5_)    \n",
    "\n",
    "<!-- vscode-jupyter-toc-config\n",
    "\tnumbering=false\n",
    "\tanchor=true\n",
    "\tflat=false\n",
    "\tminLevel=1\n",
    "\tmaxLevel=6\n",
    "\t/vscode-jupyter-toc-config -->\n",
    "<!-- THIS CELL WILL BE REPLACED ON TOC UPDATE. DO NOT WRITE YOUR TEXT IN THIS CELL -->"
   ]
  },
  {
   "cell_type": "markdown",
   "metadata": {},
   "source": [
    "# <a id='toc1_'></a>[Libraries](#toc0_)"
   ]
  },
  {
   "cell_type": "code",
   "execution_count": 1,
   "metadata": {},
   "outputs": [],
   "source": [
    "import os\n",
    "os.chdir('..')\n",
    "from secnlp.ml_logic import data as d\n",
    "from secnlp.params import *\n",
    "import pandas as pd"
   ]
  },
  {
   "cell_type": "markdown",
   "metadata": {},
   "source": [
    "# <a id='toc2_'></a>[Find current companies with CIK codes](#toc0_)"
   ]
  },
  {
   "cell_type": "code",
   "execution_count": 2,
   "metadata": {},
   "outputs": [
    {
     "name": "stdout",
     "output_type": "stream",
     "text": [
      "           ticker                                name\n",
      "cik                                                  \n",
      "0000320193   AAPL                          Apple inc.\n",
      "0000789019   MSFT                      Microsoft corp\n",
      "0001652044  GOOGL                       Alphabet inc.\n",
      "0001018724   AMZN                      Amazon com inc\n",
      "0001045810   NVDA                         Nvidia corp\n",
      "...           ...                                 ...\n",
      "0001765651   PSPX        Pacific sports exchange inc.\n",
      "0001114446   AMNA                              Ubs ag\n",
      "0001887912   WLSS                        Welsis corp.\n",
      "0001919191   PGDE                   Pgd eco solutions\n",
      "0001788756   PFTY  Parallel flight technologies, inc.\n",
      "\n",
      "[8226 rows x 2 columns]\n"
     ]
    }
   ],
   "source": [
    "companies_list = d.current_edgar_companies_list(agent = AGENT)\n",
    "print(companies_list)"
   ]
  },
  {
   "cell_type": "markdown",
   "metadata": {},
   "source": [
    "# <a id='toc3_'></a>[Find basic information on companies](#toc0_)"
   ]
  },
  {
   "cell_type": "code",
   "execution_count": 3,
   "metadata": {},
   "outputs": [
    {
     "name": "stdout",
     "output_type": "stream",
     "text": [
      "             sic                                     sicDescription tickers  \\\n",
      "cik                                                                           \n",
      "0000320193  3571                               Electronic Computers    AAPL   \n",
      "0000789019  7372                      Services-Prepackaged Software    MSFT   \n",
      "0001652044  7370  Services-Computer Programming, Data Processing...   GOOGL   \n",
      "0001018724  5961                 Retail-Catalog & Mail-Order Houses    AMZN   \n",
      "0001045810  3674                   Semiconductors & Related Devices    NVDA   \n",
      "0001326801  7370  Services-Computer Programming, Data Processing...    META   \n",
      "0001318605  3711              Motor Vehicles & Passenger Car Bodies    TSLA   \n",
      "0001067983  6331                  Fire, Marine & Casualty Insurance   BRK-B   \n",
      "0000059478  2834                        Pharmaceutical Preparations     LLY   \n",
      "0001046179  3674                   Semiconductors & Related Devices     TSM   \n",
      "\n",
      "           exchanges fiscalYearEnd  \n",
      "cik                                 \n",
      "0000320193    Nasdaq          0928  \n",
      "0000789019    Nasdaq          0630  \n",
      "0001652044    Nasdaq          1231  \n",
      "0001018724    Nasdaq          1231  \n",
      "0001045810    Nasdaq          0128  \n",
      "0001326801    Nasdaq          1231  \n",
      "0001318605    Nasdaq          1231  \n",
      "0001067983      NYSE          1231  \n",
      "0000059478      NYSE          1231  \n",
      "0001046179      NYSE          1231  \n"
     ]
    }
   ],
   "source": [
    "cik_list = companies_list.index.values[:10]\n",
    "companies_info = d.basic_info_company(cik_list=cik_list, agent = AGENT)\n",
    "print(companies_info)"
   ]
  },
  {
   "cell_type": "markdown",
   "metadata": {},
   "source": [
    "# <a id='toc4_'></a>[Download the index files listing all filings by year and quarter](#toc0_)"
   ]
  },
  {
   "cell_type": "code",
   "execution_count": 4,
   "metadata": {},
   "outputs": [],
   "source": [
    "filings_10k_2023_q4 = d.bulk_download_url_filings(start_year = 2023, end_year = 2023, quarters = ['QTR4'],\n",
    "                              agent = AGENT, uncompress = True)"
   ]
  },
  {
   "cell_type": "markdown",
   "metadata": {},
   "source": [
    "# <a id='toc5_'></a>[Download and store text files](#toc0_)"
   ]
  },
  {
   "cell_type": "code",
   "execution_count": null,
   "metadata": {},
   "outputs": [],
   "source": [
    "filings_10k_2023_q4['filing_raw'] = filings_10k_2023_q4['file_name'].apply(lambda x: d.download_raw_filing(x, base_url = 'https://www.sec.gov/Archives/', agent = AGENT))"
   ]
  }
 ],
 "metadata": {
  "kernelspec": {
   "display_name": "NPL_PROJECT",
   "language": "python",
   "name": "python3"
  },
  "language_info": {
   "codemirror_mode": {
    "name": "ipython",
    "version": 3
   },
   "file_extension": ".py",
   "mimetype": "text/x-python",
   "name": "python",
   "nbconvert_exporter": "python",
   "pygments_lexer": "ipython3",
   "version": "3.10.6"
  }
 },
 "nbformat": 4,
 "nbformat_minor": 2
}
