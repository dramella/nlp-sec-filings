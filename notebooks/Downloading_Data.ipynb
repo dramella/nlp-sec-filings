{
 "cells": [
  {
   "cell_type": "markdown",
   "metadata": {},
   "source": [
    "# Libraries"
   ]
  },
  {
   "cell_type": "code",
   "execution_count": 3,
   "metadata": {},
   "outputs": [],
   "source": [
    "import requests\n",
    "import pandas as pd"
   ]
  },
  {
   "cell_type": "markdown",
   "metadata": {},
   "source": [
    "# Find Current Companies and CIK Codes"
   ]
  },
  {
   "cell_type": "code",
   "execution_count": 8,
   "metadata": {},
   "outputs": [
    {
     "data": {
      "text/plain": [
       "str"
      ]
     },
     "execution_count": 8,
     "metadata": {},
     "output_type": "execute_result"
    }
   ],
   "source": [
    "company_tickers_url = \"https://www.sec.gov/files/company_tickers.json\"\n",
    "headers = {\"User-Agent\": \"Debora Ramella debora.ramell@gmail.com\"}\n",
    "\n",
    "response = requests.get(company_tickers_url, headers=headers)\n"
   ]
  },
  {
   "cell_type": "code",
   "execution_count": 82,
   "metadata": {},
   "outputs": [],
   "source": [
    "df = pd.DataFrame(data = [d for d in response.json().values()])\n",
    "df.drop_duplicates(inplace=True)\n",
    "df['cik_str'] = df['cik_str'].map(lambda x: (10-len(str(x)))*str(0) + str(x) if len(str(x))<10 else str(x))\n",
    "df.set_index('cik_str',drop=True,inplace=True)\n"
   ]
  },
  {
   "cell_type": "markdown",
   "metadata": {},
   "source": [
    "## Find basic information on companies"
   ]
  },
  {
   "cell_type": "code",
   "execution_count": 89,
   "metadata": {},
   "outputs": [],
   "source": [
    "cik = '0000789019'\n",
    "company_facts_url = f'https://data.sec.gov/submissions/CIK{cik}.json'\n",
    "response = requests.get(company_facts_url, headers=headers)\n"
   ]
  },
  {
   "cell_type": "code",
   "execution_count": 122,
   "metadata": {},
   "outputs": [],
   "source": [
    "sliced_keys=['cik','sic','sicDescription','tickers','exchanges','fiscalYearEnd']\n",
    "sliced_dict = {key: response.json()[key] for key in sliced_keys}\n",
    "df1 = pd.DataFrame(sliced_dict)\n",
    "df1['cik'] = df1['cik'].map(lambda x: (10-len(str(x)))*str(0) + str(x) if len(str(x))<10 else str(x))\n",
    "df1.set_index('cik',drop=True,inplace=True)\n",
    "df1"
   ]
  },
  {
   "cell_type": "markdown",
   "metadata": {},
   "source": [
    "# Download filings"
   ]
  },
  {
   "cell_type": "code",
   "execution_count": 127,
   "metadata": {},
   "outputs": [],
   "source": [
    "from secedgar import filings, FilingType\n",
    "\n",
    "# 10Q filings for Apple (ticker \"aapl\")\n",
    "my_filings = filings(cik_lookup=\"aapl\",\n",
    "                     filing_type=FilingType.FILING_10Q,\n",
    "                     user_agent=\"Debora Ramella debora.ramell@gmail.com\")"
   ]
  },
  {
   "cell_type": "markdown",
   "metadata": {},
   "source": [
    "scrape company txt files https://www.sec.gov/Archives/edgar/full-index/\n",
    "load cik, filing types and urls\n"
   ]
  },
  {
   "cell_type": "code",
   "execution_count": null,
   "metadata": {},
   "outputs": [],
   "source": []
  }
 ],
 "metadata": {
  "kernelspec": {
   "display_name": "NPL_PROJECT",
   "language": "python",
   "name": "python3"
  },
  "language_info": {
   "codemirror_mode": {
    "name": "ipython",
    "version": 3
   },
   "file_extension": ".py",
   "mimetype": "text/x-python",
   "name": "python",
   "nbconvert_exporter": "python",
   "pygments_lexer": "ipython3",
   "version": "3.10.6"
  }
 },
 "nbformat": 4,
 "nbformat_minor": 2
}
