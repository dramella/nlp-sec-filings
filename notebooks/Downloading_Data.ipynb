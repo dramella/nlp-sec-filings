{
 "cells": [
  {
   "cell_type": "markdown",
   "metadata": {},
   "source": [
    "**Table of contents**<a id='toc0_'></a>    \n",
    "- [Libraries](#toc1_)    \n",
    "- [Find current companies with CIK codes](#toc2_)    \n",
    "- [Find basic information on companies](#toc3_)    \n",
    "- [Download the index files listing all filings by year and quarter](#toc4_)    \n",
    "\n",
    "<!-- vscode-jupyter-toc-config\n",
    "\tnumbering=false\n",
    "\tanchor=true\n",
    "\tflat=false\n",
    "\tminLevel=1\n",
    "\tmaxLevel=6\n",
    "\t/vscode-jupyter-toc-config -->\n",
    "<!-- THIS CELL WILL BE REPLACED ON TOC UPDATE. DO NOT WRITE YOUR TEXT IN THIS CELL -->"
   ]
  },
  {
   "cell_type": "markdown",
   "metadata": {},
   "source": [
    "# <a id='toc1_'></a>[Libraries](#toc0_)"
   ]
  },
  {
   "cell_type": "code",
   "execution_count": 1,
   "metadata": {},
   "outputs": [],
   "source": [
    "import os\n",
    "import io\n",
    "import glob\n",
    "import requests\n",
    "import pandas as pd"
   ]
  },
  {
   "cell_type": "markdown",
   "metadata": {},
   "source": [
    "# <a id='toc2_'></a>[Find current companies with CIK codes](#toc0_)"
   ]
  },
  {
   "cell_type": "code",
   "execution_count": 2,
   "metadata": {},
   "outputs": [],
   "source": [
    "os.chdir('..')\n",
    "agent = os.environ.get(\"AGENT\")\n",
    "from secnlp import data_sourcing as ds"
   ]
  },
  {
   "cell_type": "code",
   "execution_count": 3,
   "metadata": {},
   "outputs": [
    {
     "name": "stdout",
     "output_type": "stream",
     "text": [
      "           ticker                                name\n",
      "cik                                                  \n",
      "0000320193   AAPL                          Apple inc.\n",
      "0000789019   MSFT                      Microsoft corp\n",
      "0001652044  GOOGL                       Alphabet inc.\n",
      "0001018724   AMZN                      Amazon com inc\n",
      "0001045810   NVDA                         Nvidia corp\n",
      "...           ...                                 ...\n",
      "0001765651   PSPX        Pacific sports exchange inc.\n",
      "0001114446   AMNA                              Ubs ag\n",
      "0001887912   WLSS                        Welsis corp.\n",
      "0001919191   PGDE                   Pgd eco solutions\n",
      "0001788756   PFTY  Parallel flight technologies, inc.\n",
      "\n",
      "[8226 rows x 2 columns]\n"
     ]
    }
   ],
   "source": [
    "companies_list = ds.current_edgar_companies_list(agent = agent)\n",
    "print(companies_list)"
   ]
  },
  {
   "cell_type": "markdown",
   "metadata": {},
   "source": [
    "# <a id='toc3_'></a>[Find basic information on companies](#toc0_)"
   ]
  },
  {
   "cell_type": "code",
   "execution_count": 4,
   "metadata": {},
   "outputs": [
    {
     "name": "stdout",
     "output_type": "stream",
     "text": [
      "          sic                                     sicDescription tickers  \\\n",
      "cik                                                                        \n",
      "320193   3571                               Electronic Computers    AAPL   \n",
      "789019   7372                      Services-Prepackaged Software    MSFT   \n",
      "1652044  7370  Services-Computer Programming, Data Processing...   GOOGL   \n",
      "1018724  5961                 Retail-Catalog & Mail-Order Houses    AMZN   \n",
      "1045810  3674                   Semiconductors & Related Devices    NVDA   \n",
      "1326801  7370  Services-Computer Programming, Data Processing...    META   \n",
      "1318605  3711              Motor Vehicles & Passenger Car Bodies    TSLA   \n",
      "1067983  6331                  Fire, Marine & Casualty Insurance   BRK-B   \n",
      "59478    2834                        Pharmaceutical Preparations     LLY   \n",
      "1046179  3674                   Semiconductors & Related Devices     TSM   \n",
      "\n",
      "        exchanges fiscalYearEnd  \n",
      "cik                              \n",
      "320193     Nasdaq          0928  \n",
      "789019     Nasdaq          0630  \n",
      "1652044    Nasdaq          1231  \n",
      "1018724    Nasdaq          1231  \n",
      "1045810    Nasdaq          0128  \n",
      "1326801    Nasdaq          1231  \n",
      "1318605    Nasdaq          1231  \n",
      "1067983      NYSE          1231  \n",
      "59478        NYSE          1231  \n",
      "1046179      NYSE          1231  \n"
     ]
    }
   ],
   "source": [
    "cik_list = companies_list.index.values[:10]\n",
    "companies_info = ds.basic_info_company(cik_list=cik_list, agent = agent)\n",
    "print(companies_info)"
   ]
  },
  {
   "cell_type": "markdown",
   "metadata": {},
   "source": [
    "# <a id='toc4_'></a>[Download the index files listing all filings by year and quarter](#toc0_)"
   ]
  },
  {
   "cell_type": "code",
   "execution_count": 3,
   "metadata": {},
   "outputs": [
    {
     "data": {
      "text/html": [
       "<div>\n",
       "<style scoped>\n",
       "    .dataframe tbody tr th:only-of-type {\n",
       "        vertical-align: middle;\n",
       "    }\n",
       "\n",
       "    .dataframe tbody tr th {\n",
       "        vertical-align: top;\n",
       "    }\n",
       "\n",
       "    .dataframe thead th {\n",
       "        text-align: right;\n",
       "    }\n",
       "</style>\n",
       "<table border=\"1\" class=\"dataframe\">\n",
       "  <thead>\n",
       "    <tr style=\"text-align: right;\">\n",
       "      <th></th>\n",
       "      <th>cik</th>\n",
       "      <th>company</th>\n",
       "      <th>form_type</th>\n",
       "      <th>date_filed</th>\n",
       "      <th>file_name</th>\n",
       "    </tr>\n",
       "  </thead>\n",
       "  <tbody>\n",
       "    <tr>\n",
       "      <th>0</th>\n",
       "      <td>0000860585</td>\n",
       "      <td>RBS PARTNERS L P /CT</td>\n",
       "      <td>13FCONP</td>\n",
       "      <td>1993-05-12</td>\n",
       "      <td>edgar/data/860585/9999999997-04-042068.txt</td>\n",
       "    </tr>\n",
       "    <tr>\n",
       "      <th>1</th>\n",
       "      <td>0000880794</td>\n",
       "      <td>MERRILL LYNCH LIFE VARIABLE ANNUITY SEPARATE A...</td>\n",
       "      <td>POS AMI</td>\n",
       "      <td>1993-04-28</td>\n",
       "      <td>edgar/data/880794/9999999997-05-050434.txt</td>\n",
       "    </tr>\n",
       "    <tr>\n",
       "      <th>2</th>\n",
       "      <td>0000926688</td>\n",
       "      <td>SMITH THOMAS W</td>\n",
       "      <td>13F-HR</td>\n",
       "      <td>1993-05-14</td>\n",
       "      <td>edgar/data/926688/9999999997-05-015657.txt</td>\n",
       "    </tr>\n",
       "    <tr>\n",
       "      <th>3</th>\n",
       "      <td>0000926688</td>\n",
       "      <td>SMITH THOMAS W</td>\n",
       "      <td>13FCONP</td>\n",
       "      <td>1993-05-14</td>\n",
       "      <td>edgar/data/926688/9999999997-05-015662.txt</td>\n",
       "    </tr>\n",
       "    <tr>\n",
       "      <th>0</th>\n",
       "      <td>0000060512</td>\n",
       "      <td>LOUISIANA LAND &amp; EXPLORATION CO</td>\n",
       "      <td>10-Q</td>\n",
       "      <td>1993-08-13</td>\n",
       "      <td>edgar/data/60512/0000060512-94-000005.txt</td>\n",
       "    </tr>\n",
       "    <tr>\n",
       "      <th>...</th>\n",
       "      <td>...</td>\n",
       "      <td>...</td>\n",
       "      <td>...</td>\n",
       "      <td>...</td>\n",
       "      <td>...</td>\n",
       "    </tr>\n",
       "    <tr>\n",
       "      <th>20878</th>\n",
       "      <td>0000099974</td>\n",
       "      <td>TJ INTERNATIONAL INC</td>\n",
       "      <td>10-K</td>\n",
       "      <td>1994-03-29</td>\n",
       "      <td>edgar/data/99974/0000912057-94-001108.txt</td>\n",
       "    </tr>\n",
       "    <tr>\n",
       "      <th>0</th>\n",
       "      <td>0000860585</td>\n",
       "      <td>RBS PARTNERS L P /CT</td>\n",
       "      <td>13FCONP</td>\n",
       "      <td>1993-02-11</td>\n",
       "      <td>edgar/data/860585/9999999997-04-035713.txt</td>\n",
       "    </tr>\n",
       "    <tr>\n",
       "      <th>1</th>\n",
       "      <td>0000880794</td>\n",
       "      <td>MERRILL LYNCH LIFE VARIABLE ANNUITY SEPARATE A...</td>\n",
       "      <td>NSAR-B</td>\n",
       "      <td>1993-02-26</td>\n",
       "      <td>edgar/data/880794/9999999997-05-050433.txt</td>\n",
       "    </tr>\n",
       "    <tr>\n",
       "      <th>2</th>\n",
       "      <td>0000926688</td>\n",
       "      <td>SMITH THOMAS W</td>\n",
       "      <td>13F-HR</td>\n",
       "      <td>1993-02-12</td>\n",
       "      <td>edgar/data/926688/9999999997-05-015654.txt</td>\n",
       "    </tr>\n",
       "    <tr>\n",
       "      <th>3</th>\n",
       "      <td>0000094673</td>\n",
       "      <td>STORAGE TECHNOLOGY CORP</td>\n",
       "      <td>CERTNYS</td>\n",
       "      <td>1993-02-24</td>\n",
       "      <td>edgar/data/94673/9999999997-05-037760.txt</td>\n",
       "    </tr>\n",
       "  </tbody>\n",
       "</table>\n",
       "<p>65496 rows × 5 columns</p>\n",
       "</div>"
      ],
      "text/plain": [
       "              cik                                            company  \\\n",
       "0      0000860585                               RBS PARTNERS L P /CT   \n",
       "1      0000880794  MERRILL LYNCH LIFE VARIABLE ANNUITY SEPARATE A...   \n",
       "2      0000926688                                     SMITH THOMAS W   \n",
       "3      0000926688                                     SMITH THOMAS W   \n",
       "0      0000060512                    LOUISIANA LAND & EXPLORATION CO   \n",
       "...           ...                                                ...   \n",
       "20878  0000099974                               TJ INTERNATIONAL INC   \n",
       "0      0000860585                               RBS PARTNERS L P /CT   \n",
       "1      0000880794  MERRILL LYNCH LIFE VARIABLE ANNUITY SEPARATE A...   \n",
       "2      0000926688                                     SMITH THOMAS W   \n",
       "3      0000094673                            STORAGE TECHNOLOGY CORP   \n",
       "\n",
       "      form_type  date_filed                                   file_name  \n",
       "0       13FCONP  1993-05-12  edgar/data/860585/9999999997-04-042068.txt  \n",
       "1       POS AMI  1993-04-28  edgar/data/880794/9999999997-05-050434.txt  \n",
       "2        13F-HR  1993-05-14  edgar/data/926688/9999999997-05-015657.txt  \n",
       "3       13FCONP  1993-05-14  edgar/data/926688/9999999997-05-015662.txt  \n",
       "0          10-Q  1993-08-13   edgar/data/60512/0000060512-94-000005.txt  \n",
       "...         ...         ...                                         ...  \n",
       "20878      10-K  1994-03-29   edgar/data/99974/0000912057-94-001108.txt  \n",
       "0       13FCONP  1993-02-11  edgar/data/860585/9999999997-04-035713.txt  \n",
       "1        NSAR-B  1993-02-26  edgar/data/880794/9999999997-05-050433.txt  \n",
       "2        13F-HR  1993-02-12  edgar/data/926688/9999999997-05-015654.txt  \n",
       "3       CERTNYS  1993-02-24   edgar/data/94673/9999999997-05-037760.txt  \n",
       "\n",
       "[65496 rows x 5 columns]"
      ]
     },
     "execution_count": 3,
     "metadata": {},
     "output_type": "execute_result"
    }
   ],
   "source": [
    "filings = ds.bulk_download_url_filings(start_year = 1993, end_year = 1994, quarters = ['QTR1','QTR2','QTR3','QTR4'],\n",
    "                              agent = agent, uncompress = True)"
   ]
  }
 ],
 "metadata": {
  "kernelspec": {
   "display_name": "NPL_PROJECT",
   "language": "python",
   "name": "python3"
  },
  "language_info": {
   "codemirror_mode": {
    "name": "ipython",
    "version": 3
   },
   "file_extension": ".py",
   "mimetype": "text/x-python",
   "name": "python",
   "nbconvert_exporter": "python",
   "pygments_lexer": "ipython3",
   "version": "3.10.6"
  }
 },
 "nbformat": 4,
 "nbformat_minor": 2
}
