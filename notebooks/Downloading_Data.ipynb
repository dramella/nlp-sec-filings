{
 "cells": [
  {
   "cell_type": "markdown",
   "metadata": {},
   "source": [
    "**Table of contents**<a id='toc0_'></a>    \n",
    "- [Libraries](#toc1_)    \n",
    "- [Find current companies with CIK codes](#toc2_)    \n",
    "- [Find basic information on companies](#toc3_)    \n",
    "- [Download the index files listing all filings by year and quarter](#toc4_)    \n",
    "- [Download and store text files](#toc5_)    \n",
    "\n",
    "<!-- vscode-jupyter-toc-config\n",
    "\tnumbering=false\n",
    "\tanchor=true\n",
    "\tflat=false\n",
    "\tminLevel=1\n",
    "\tmaxLevel=6\n",
    "\t/vscode-jupyter-toc-config -->\n",
    "<!-- THIS CELL WILL BE REPLACED ON TOC UPDATE. DO NOT WRITE YOUR TEXT IN THIS CELL -->"
   ]
  },
  {
   "cell_type": "markdown",
   "metadata": {},
   "source": [
    "# <a id='toc1_'></a>[Libraries](#toc0_)"
   ]
  },
  {
   "cell_type": "code",
   "execution_count": 10,
   "metadata": {},
   "outputs": [],
   "source": [
    "import os\n",
    "import time\n",
    "os.chdir(os.environ.get('PROJECT_PATH'))\n",
    "from secnlp.ml_logic import data as d\n",
    "from secnlp import utils as u\n",
    "from secnlp.params import *\n",
    "import pandas as pd"
   ]
  },
  {
   "cell_type": "markdown",
   "metadata": {},
   "source": [
    "# <a id='toc2_'></a>[Find current companies with CIK codes](#toc0_)"
   ]
  },
  {
   "cell_type": "code",
   "execution_count": 2,
   "metadata": {},
   "outputs": [
    {
     "name": "stdout",
     "output_type": "stream",
     "text": [
      "           ticker                                name\n",
      "cik                                                  \n",
      "0000320193   AAPL                          Apple inc.\n",
      "0000789019   MSFT                      Microsoft corp\n",
      "0001652044  GOOGL                       Alphabet inc.\n",
      "0001018724   AMZN                      Amazon com inc\n",
      "0001045810   NVDA                         Nvidia corp\n",
      "...           ...                                 ...\n",
      "0001921332  AZTGY              Aztech global ltd./adr\n",
      "0001788756   PFTY  Parallel flight technologies, inc.\n",
      "0001748680  OWSCX              1ws credit income fund\n",
      "0000013372  NSARO                   Nstar electric co\n",
      "0001795938   CEAI                       Creations inc\n",
      "\n",
      "[8191 rows x 2 columns]\n"
     ]
    }
   ],
   "source": [
    "companies_list = d.current_edgar_companies_list(agent = AGENT)\n",
    "print(companies_list)"
   ]
  },
  {
   "cell_type": "markdown",
   "metadata": {},
   "source": [
    "# <a id='toc3_'></a>[Find basic information on companies](#toc0_)"
   ]
  },
  {
   "cell_type": "code",
   "execution_count": 3,
   "metadata": {},
   "outputs": [
    {
     "name": "stdout",
     "output_type": "stream",
     "text": [
      "             sic                                     sicDescription tickers  \\\n",
      "cik                                                                           \n",
      "0000320193  3571                               Electronic Computers    AAPL   \n",
      "0000789019  7372                      Services-Prepackaged Software    MSFT   \n",
      "0001652044  7370  Services-Computer Programming, Data Processing...   GOOGL   \n",
      "0001018724  5961                 Retail-Catalog & Mail-Order Houses    AMZN   \n",
      "0001045810  3674                   Semiconductors & Related Devices    NVDA   \n",
      "0001326801  7370  Services-Computer Programming, Data Processing...    META   \n",
      "0001067983  6331                  Fire, Marine & Casualty Insurance   BRK-B   \n",
      "0001318605  3711              Motor Vehicles & Passenger Car Bodies    TSLA   \n",
      "0000059478  2834                        Pharmaceutical Preparations     LLY   \n",
      "0001403161  7389                    Services-Business Services, NEC       V   \n",
      "\n",
      "           exchanges fiscalYearEnd  \n",
      "cik                                 \n",
      "0000320193    Nasdaq          0928  \n",
      "0000789019    Nasdaq          0630  \n",
      "0001652044    Nasdaq          1231  \n",
      "0001018724    Nasdaq          1231  \n",
      "0001045810    Nasdaq          0128  \n",
      "0001326801    Nasdaq          1231  \n",
      "0001067983      NYSE          1231  \n",
      "0001318605    Nasdaq          1231  \n",
      "0000059478      NYSE          1231  \n",
      "0001403161      NYSE          0930  \n"
     ]
    }
   ],
   "source": [
    "cik_list = companies_list.index.values[:10]\n",
    "companies_info = d.basic_info_company(cik_list=cik_list, agent = AGENT)\n",
    "print(companies_info)"
   ]
  },
  {
   "cell_type": "markdown",
   "metadata": {},
   "source": [
    "# <a id='toc4_'></a>[Download the index files listing all filings by year and quarter](#toc0_)"
   ]
  },
  {
   "cell_type": "code",
   "execution_count": null,
   "metadata": {},
   "outputs": [],
   "source": [
    "filings_10k_2023_q4 = d.bulk_download_url_filings(start_year = 2023, end_year = 2023, quarters = ['QTR1'], agent = AGENT, uncompress = True)"
   ]
  },
  {
   "cell_type": "markdown",
   "metadata": {},
   "source": [
    "# <a id='toc5_'></a>[Download and store text files](#toc0_)"
   ]
  },
  {
   "cell_type": "code",
   "execution_count": 6,
   "metadata": {},
   "outputs": [],
   "source": [
    "df = u.read_data_from_bq(credentials = SERVICE_ACCOUNT, gcp_project = PROJECT, bq_dataset = DATASET_ID, table = FILINGS_10KQ_TABLE_ID)"
   ]
  },
  {
   "cell_type": "code",
   "execution_count": 7,
   "metadata": {},
   "outputs": [],
   "source": [
    "# Define a subset of rows (e.g., rows with index 0 and 1)\n",
    "condition_subset = df['date_filed'].astype('datetime64[ns]').dt.year == 2023\n",
    "subset_df = df[condition_subset].head(10)\n",
    "# Apply the process_row function to the subset of rows and store the result in a new column\n",
    "subset_df['raw_filing'] = subset_df['file_name'].apply(lambda url: d.fetch_text_from_url(url, agent = AGENT))\n"
   ]
  },
  {
   "cell_type": "code",
   "execution_count": 9,
   "metadata": {},
   "outputs": [
    {
     "data": {
      "text/plain": [
       "0    <SEC-DOCUMENT>0001564590-17-005503.txt : 20170...\n",
       "1    <SEC-DOCUMENT>0001564590-19-010132.txt : 20190...\n",
       "2    <SEC-DOCUMENT>0001558370-20-003383.txt : 20200...\n",
       "3    <SEC-DOCUMENT>0001558370-23-004942.txt : 20230...\n",
       "4    <SEC-DOCUMENT>0001558370-22-004753.txt : 20220...\n",
       "5    <SEC-DOCUMENT>0001558370-21-003728.txt : 20210...\n",
       "6    <SEC-DOCUMENT>0001564590-18-007158.txt : 20180...\n",
       "7    -----BEGIN PRIVACY-ENHANCED MESSAGE-----\\nProc...\n",
       "8    -----BEGIN PRIVACY-ENHANCED MESSAGE-----\\nProc...\n",
       "9    -----BEGIN PRIVACY-ENHANCED MESSAGE-----\\nProc...\n",
       "Name: raw_filing, dtype: object"
      ]
     },
     "execution_count": 9,
     "metadata": {},
     "output_type": "execute_result"
    }
   ],
   "source": [
    "# Update the original DataFrame with the results from the subset\n",
    "df.update(subset_df)\n",
    "u.load_data_to_bq(data = df, credentials = SERVICE_ACCOUNT, gcp_project = PROJECT, bq_dataset = DATASET_ID, table = FILINGS_10KQ_TABLE_ID, truncate = True)\n",
    "subset_df.to_pickle('data.pkl')"
   ]
  }
 ],
 "metadata": {
  "kernelspec": {
   "display_name": "Python 3 (ipykernel)",
   "language": "python",
   "name": "python3"
  },
  "language_info": {
   "codemirror_mode": {
    "name": "ipython",
    "version": 3
   },
   "file_extension": ".py",
   "mimetype": "text/x-python",
   "name": "python",
   "nbconvert_exporter": "python",
   "pygments_lexer": "ipython3",
   "version": "3.10.6"
  }
 },
 "nbformat": 4,
 "nbformat_minor": 4
}
